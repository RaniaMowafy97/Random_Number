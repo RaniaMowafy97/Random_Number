{
 "cells": [
  {
   "cell_type": "markdown",
   "metadata": {},
   "source": [
    "### Random Number Guessing Game"
   ]
  },
  {
   "cell_type": "code",
   "execution_count": 1,
   "metadata": {},
   "outputs": [
    {
     "name": "stdout",
     "output_type": "stream",
     "text": [
      "Too high!\n",
      "Attempts left: 9\n",
      "Too high!\n",
      "Attempts left: 8\n",
      "Too high!\n",
      "Attempts left: 7\n",
      "Too high!\n",
      "Attempts left: 6\n",
      "Too high!\n",
      "Attempts left: 5\n",
      "Too high!\n",
      "Attempts left: 4\n",
      "Too low!\n",
      "Attempts left: 3\n",
      "Too low!\n",
      "Attempts left: 2\n",
      "Congratulations, You guessed it\n"
     ]
    }
   ],
   "source": [
    "import random\n",
    "\n",
    "def number_guessing_game():\n",
    "    number = random.randint(1, 100)\n",
    "    attempts = 10\n",
    "\n",
    "    while attempts > 0:\n",
    "        guess = int(input(\"Guess the number between 1 and 100: \"))\n",
    "        if guess < number:\n",
    "            print(\"Too low!\")\n",
    "        elif guess > number:\n",
    "            print(\"Too high!\")\n",
    "        else:\n",
    "            print(\"Congratulations, You guessed it\")\n",
    "            return\n",
    "        attempts -= 1\n",
    "        print(f\"Attempts left: {attempts}\")\n",
    "\n",
    "    print(f\"Game over, The number was: {number}\")\n",
    "\n",
    "number_guessing_game()\n"
   ]
  },
  {
   "cell_type": "code",
   "execution_count": null,
   "metadata": {},
   "outputs": [],
   "source": []
  }
 ],
 "metadata": {
  "kernelspec": {
   "display_name": "base",
   "language": "python",
   "name": "python3"
  },
  "language_info": {
   "codemirror_mode": {
    "name": "ipython",
    "version": 3
   },
   "file_extension": ".py",
   "mimetype": "text/x-python",
   "name": "python",
   "nbconvert_exporter": "python",
   "pygments_lexer": "ipython3",
   "version": "3.7.6"
  }
 },
 "nbformat": 4,
 "nbformat_minor": 2
}
