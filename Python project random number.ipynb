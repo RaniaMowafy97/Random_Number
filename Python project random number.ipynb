import random

def number_guessing_game():
    number = random.randint(1, 100)
    attempts = 10

    while attempts > 0:
        guess = int(input("Guess the number between 1 and 100: "))
        if guess < number:
            print("Too low!")
        elif guess > number:
            print("Too high!")
        else:
            print("Congratulations, You guessed it")
            return
        attempts -= 1
        print(f"Attempts left: {attempts}")

    print(f"Game over, The number was: {number}")

number_guessing_game()
